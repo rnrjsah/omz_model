    import os
    import shutil
    
    ! omz_downloader --name face-detection-adas-0001 --precision FP16
    ! omz_downloader --name emotions-recognition-retail-0003 --precision FP16
    ! omz_downloader --name age-gender-recognition-retail-0013 --precision FP16
    
    default_directory = os.getcwd()
    
    try:
        os.path.exists('model')
    except Exception:
        pass
    
    print(default_directory)
    os.chdir("model")
    model_directory = os.getcwd() 
    os.chdir(default_directory)
    list_int = os.listdir(path=".")
    text_length_int = len(os.listdir(path="."))
    os.chdir(default_directory)
    print(os.getcwd())
    for i in range (text_length_int):
        if (list_int[i] == "intel"):
            os.chdir("intel")
            path_int = os.getcwd()
        else:
            print(list_int[i])
    list_int_1 = os.listdir(path=".")
    text_length_int_1 = len(os.listdir(path="."))

    for i in range (text_length_int_1):
        if (list_int_1[i] == "face-detection-adas-0001"):
            os.chdir("face-detection-adas-0001")
            path_fac = os.getcwd()
        else:
            print(list_int_1[i])
    list_fac = os.listdir(path=".")
    text_length_fac = len(os.listdir(path="."))
    for i in range (text_length_fac):
        if (list_fac[i] == "FP16"):
            os.chdir("FP16")
            path_fac_FP = os.getcwd()
            print(os.getcwd())
        else:
            print(list_fac[i])
    list_fac_mod = os.listdir(path=".")
    text_length_fac_mod = len(os.listdir(path="."))
    shutil.move("face-detection-adas-0001.bin",model_directory)
    shutil.move("face-detection-adas-0001.xml",model_directory)
    os.chdir(path_int)
    for i in range (text_length_int_1):
        if (list_int_1[i] == "emotions-recognition-retail-0003"):
            os.chdir("emotions-recognition-retail-0003")
            path_emo = os.getcwd()
        else:
            print(list_int[i])
    list_emo = os.listdir(path=".")
    text_length_emo = len(os.listdir(path="."))
    for i in range (text_length_emo):
        if (list_emo[i] == "FP16"):
            os.chdir("FP16")
            path_emo_FP = os.getcwd()
        else:
            print(list_emo[i])
    list_emo_mod = os.listdir(path=".")
    text_length_emo_mod = len(os.listdir(path="."))
    shutil.move("emotions-recognition-retail-0003.bin",model_directory)
    shutil.move("emotions-recognition-retail-0003.xml",model_directory)
    os.chdir(path_int)
    for i in range (text_length_int_1):
        if (list_int_1[i] == "age-gender-recognition-retail-0013"):
            os.chdir("age-gender-recognition-retail-0013")
            path_ag = os.getcwd()
        else:
            print(list_int[i])
    list_ag = os.listdir(path=".")
    text_length_ag = len(os.listdir(path="."))
    for i in range (text_length_ag):
        if (list_ag[i] == "FP16"):
            os.chdir("FP16")
            path_ag_FP = os.getcwd()
        else:
            print(list_ag[i])
    list_ag_mod = os.listdir(path=".")
    text_length_ag_mod = len(os.listdir(path="."))
    shutil.move("age-gender-recognition-retail-0013.bin",model_directory)
    shutil.move("age-gender-recognition-retail-0013.xml",model_directory)
    os.chdir(default_directory)
